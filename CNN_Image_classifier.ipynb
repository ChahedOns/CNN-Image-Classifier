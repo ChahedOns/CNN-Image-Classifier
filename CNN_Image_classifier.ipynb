{
  "cells": [
    {
      "cell_type": "code",
      "execution_count": null,
      "metadata": {
        "id": "FpPmYP1yxNPo"
      },
      "outputs": [],
      "source": [
        "import tensorflow as tf\n",
        "\n",
        "from keras import models\n",
        "from keras import layers\n",
        "from tensorflow.keras.utils import to_categorical\n",
        "from tensorflow.keras.models import Sequential\n",
        "from tensorflow.keras.layers import Conv2D\n",
        "from tensorflow.keras.layers import MaxPooling2D\n",
        "from tensorflow.keras.layers import Dense\n",
        "from tensorflow.keras.layers import Flatten\n",
        "import pickle\n",
        "from tensorflow.keras.preprocessing.image import ImageDataGenerator\n",
        "from sklearn.metrics import classification_report, confusion_matrix\n",
        "\n",
        "\n",
        "from sklearn.model_selection import train_test_split\n"
      ]
    },
    {
      "cell_type": "code",
      "execution_count": null,
      "metadata": {},
      "outputs": [],
      "source": [
        "class CustomGenerator:\n",
        "    def __init__(self, generator):\n",
        "        self.generator = generator\n",
        "\n",
        "    def generate_batches(self):\n",
        "        while True:\n",
        "            data = next(self.generator)\n",
        "            yield data"
      ]
    },
    {
      "cell_type": "code",
      "execution_count": 18,
      "metadata": {
        "colab": {
          "base_uri": "https://localhost:8080/"
        },
        "id": "n3jp8ATt9c4E",
        "outputId": "e3594dfb-9701-454c-fed9-2de2fd36b8fd"
      },
      "outputs": [
        {
          "name": "stdout",
          "output_type": "stream",
          "text": [
            "Found 4183 images belonging to 3 classes.\n",
            "Found 1045 images belonging to 3 classes.\n"
          ]
        }
      ],
      "source": [
        "# the path to dataset\n",
        "dataset_dir = 'D:\\\\workspace\\\\CNN-cassifier\\\\Data\\\\3IDL_DataSet'\n",
        "\n",
        "# Set up a data generator with image augmentation for training\n",
        "datagen = ImageDataGenerator(\n",
        "    rescale=1./255,      # Normalize pixel values to be between 0 and 1\n",
        "    shear_range=0.2,     # Shear transformations\n",
        "    zoom_range=0.2,      # Zoom transformations\n",
        "    horizontal_flip=False, # Randomly flip images horizontally\n",
        "    validation_split=0.2,\n",
        "\n",
        ")\n",
        "\n",
        "batch_size = 64\n",
        "\n",
        "# Flow training images in batches using the datagen generator\n",
        "train_generator = datagen.flow_from_directory(\n",
        "    dataset_dir,\n",
        "    batch_size=batch_size,\n",
        "    class_mode='categorical',\n",
        "    shuffle=True,\n",
        "    subset='training'  \n",
        ")\n",
        "test_generator = datagen.flow_from_directory(\n",
        "    dataset_dir,\n",
        "    batch_size=batch_size,\n",
        "    class_mode='categorical',\n",
        "    shuffle=False,\n",
        "    subset='validation'\n",
        "    )\n",
        "\n",
        "# Save the relevant information to recreate the generator later\n",
        "test_generator_info = {\n",
        "    'directory': dataset_dir,\n",
        "    'batch_size': batch_size,\n",
        "    'class_mode': 'categorical',\n",
        "    'shuffle': False,\n",
        "    'subset': 'validation'\n",
        "}"
      ]
    },
    {
      "cell_type": "code",
      "execution_count": 20,
      "metadata": {},
      "outputs": [],
      "source": [
        "# Recreate the pickled file with the highest protocol version\n",
        "with open('test_generator_info.pkl', 'wb') as file:\n",
        "    pickle.dump(test_generator_info, file, protocol=pickle.HIGHEST_PROTOCOL)"
      ]
    },
    {
      "cell_type": "code",
      "execution_count": null,
      "metadata": {
        "colab": {
          "base_uri": "https://localhost:8080/"
        },
        "id": "DnQJqGK9CNp2",
        "outputId": "d5134953-9bdb-4b6b-b90c-f81cbf08b2a4"
      },
      "outputs": [],
      "source": [
        "print(\"Number of training samples:\", len(train_generator))\n",
        "print(\"Number of batches per epoch:\", len(train_generator))\n",
        "print(\"Number of classes:\", len(train_generator))\n",
        "print(\"Class labels:\", train_generator)"
      ]
    },
    {
      "cell_type": "code",
      "execution_count": null,
      "metadata": {
        "id": "r03eTA8vxQ4_"
      },
      "outputs": [],
      "source": [
        "#Filtring phase\n",
        "model = Sequential()\n",
        "model.add(Conv2D(32, (3, 3), activation='relu',kernel_initializer='he_uniform',input_shape=(256, 256, 3)))\n",
        "model.add(MaxPooling2D((2, 2)))\n",
        "\n",
        "model.add(Conv2D(64, (5, 5), activation='relu', kernel_initializer='he_uniform'))\n",
        "model.add(MaxPooling2D((2, 2)))"
      ]
    },
    {
      "cell_type": "code",
      "execution_count": null,
      "metadata": {
        "id": "iKhCPdefNdCq"
      },
      "outputs": [],
      "source": [
        "model.add(Flatten())"
      ]
    },
    {
      "cell_type": "code",
      "execution_count": null,
      "metadata": {
        "id": "wUpeyOsrxcI6"
      },
      "outputs": [],
      "source": [
        "#Fully connected layers\n",
        "model.add(Dense(256, activation='relu', kernel_initializer='he_uniform'))\n",
        "model.add(Dense(128, activation='relu', kernel_initializer='he_uniform'))\n",
        "model.add(Dense(3, activation='softmax'))"
      ]
    },
    {
      "cell_type": "code",
      "execution_count": null,
      "metadata": {
        "id": "hFQvKei5xevz"
      },
      "outputs": [],
      "source": [
        "model.compile(\n",
        "    optimizer=tf.keras.optimizers.Adam(0.0001),\n",
        "    loss=tf.keras.losses.CategoricalCrossentropy(),\n",
        "    metrics=['categorical_accuracy']\n",
        ")\n"
      ]
    },
    {
      "cell_type": "code",
      "execution_count": null,
      "metadata": {
        "colab": {
          "base_uri": "https://localhost:8080/",
          "height": 1000
        },
        "id": "KYQcz5jgFbrJ",
        "outputId": "d7418c6b-6781-42d3-b6d6-61952aafcc99"
      },
      "outputs": [],
      "source": [
        "model.fit(\n",
        "    train_generator,\n",
        "    steps_per_epoch=train_generator.samples // batch_size,\n",
        "    epochs=15,\n",
        ")"
      ]
    },
    {
      "cell_type": "code",
      "execution_count": null,
      "metadata": {},
      "outputs": [],
      "source": [
        "#Saving the model for the backend later\n",
        "model.save('model.h5')"
      ]
    },
    {
      "cell_type": "markdown",
      "metadata": {},
      "source": [
        "### ----------- Insights -------------"
      ]
    },
    {
      "cell_type": "code",
      "execution_count": null,
      "metadata": {},
      "outputs": [],
      "source": [
        "# Evaluate the model on the validation set\n",
        "validation_loss, validation_accuracy = model.evaluate(test_generator)\n",
        "print(\"Validation Accuracy:\", validation_accuracy)\n",
        "\n",
        "# Get predictions on the validation set\n",
        "y_pred = model.predict(test_generator)\n",
        "y_true = test_generator.classes\n",
        "\n",
        "# Generate a confusion matrix\n",
        "conf_matrix = confusion_matrix(y_true, y_pred.argmax(axis=1))\n",
        "\n",
        "# Print classification report\n",
        "print(\"Classification Report: \\n\" , classification_report(y_true, y_pred.argmax(axis=1)))\n",
        "\n",
        "# Print confusion matrix\n",
        "print(\"Confusion Matrix: \\n \", conf_matrix)\n"
      ]
    },
    {
      "cell_type": "code",
      "execution_count": null,
      "metadata": {},
      "outputs": [],
      "source": [
        "# Evaluate the model on the test data\n",
        "test_loss, test_accuracy = model.evaluate(\n",
        "    test_generator,\n",
        "    steps=test_generator.samples // batch_size\n",
        ")\n",
        "\n",
        "print(\"Test Loss:\", test_loss)\n",
        "print(\"Test Accuracy:\", test_accuracy)"
      ]
    }
  ],
  "metadata": {
    "colab": {
      "provenance": []
    },
    "kernelspec": {
      "display_name": "Python 3",
      "name": "python3"
    },
    "language_info": {
      "codemirror_mode": {
        "name": "ipython",
        "version": 3
      },
      "file_extension": ".py",
      "mimetype": "text/x-python",
      "name": "python",
      "nbconvert_exporter": "python",
      "pygments_lexer": "ipython3",
      "version": "3.10.11"
    }
  },
  "nbformat": 4,
  "nbformat_minor": 0
}
